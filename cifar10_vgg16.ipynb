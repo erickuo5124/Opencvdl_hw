{
  "nbformat": 4,
  "nbformat_minor": 0,
  "metadata": {
    "colab": {
      "name": "cifar10_vgg16.ipynb",
      "provenance": [],
      "collapsed_sections": [],
      "mount_file_id": "1JpMhSmKthKeeVwrjq2gv3zyc4zkC2gV8",
      "authorship_tag": "ABX9TyP5mnXAElhz2+5UShMCqjOR",
      "include_colab_link": true
    },
    "kernelspec": {
      "name": "python3",
      "display_name": "Python 3"
    },
    "language_info": {
      "name": "python"
    },
    "accelerator": "GPU",
    "widgets": {
      "application/vnd.jupyter.widget-state+json": {
        "2cb65d4bc3cf4190b110111ea32a49ba": {
          "model_module": "@jupyter-widgets/controls",
          "model_name": "HBoxModel",
          "model_module_version": "1.5.0",
          "state": {
            "_view_name": "HBoxView",
            "_dom_classes": [],
            "_model_name": "HBoxModel",
            "_view_module": "@jupyter-widgets/controls",
            "_model_module_version": "1.5.0",
            "_view_count": null,
            "_view_module_version": "1.5.0",
            "box_style": "",
            "layout": "IPY_MODEL_4eb13b545ef7461c912e27be78c7848a",
            "_model_module": "@jupyter-widgets/controls",
            "children": [
              "IPY_MODEL_91f58a9128624b9cad67c373d3a08997",
              "IPY_MODEL_b49dd455992e40f4b74bc09937c20600",
              "IPY_MODEL_67a9336eb15a4ba08dabeaf10a59349a"
            ]
          }
        },
        "4eb13b545ef7461c912e27be78c7848a": {
          "model_module": "@jupyter-widgets/base",
          "model_name": "LayoutModel",
          "model_module_version": "1.2.0",
          "state": {
            "_view_name": "LayoutView",
            "grid_template_rows": null,
            "right": null,
            "justify_content": null,
            "_view_module": "@jupyter-widgets/base",
            "overflow": null,
            "_model_module_version": "1.2.0",
            "_view_count": null,
            "flex_flow": null,
            "width": null,
            "min_width": null,
            "border": null,
            "align_items": null,
            "bottom": null,
            "_model_module": "@jupyter-widgets/base",
            "top": null,
            "grid_column": null,
            "overflow_y": null,
            "overflow_x": null,
            "grid_auto_flow": null,
            "grid_area": null,
            "grid_template_columns": null,
            "flex": null,
            "_model_name": "LayoutModel",
            "justify_items": null,
            "grid_row": null,
            "max_height": null,
            "align_content": null,
            "visibility": null,
            "align_self": null,
            "height": null,
            "min_height": null,
            "padding": null,
            "grid_auto_rows": null,
            "grid_gap": null,
            "max_width": null,
            "order": null,
            "_view_module_version": "1.2.0",
            "grid_template_areas": null,
            "object_position": null,
            "object_fit": null,
            "grid_auto_columns": null,
            "margin": null,
            "display": null,
            "left": null
          }
        },
        "91f58a9128624b9cad67c373d3a08997": {
          "model_module": "@jupyter-widgets/controls",
          "model_name": "HTMLModel",
          "model_module_version": "1.5.0",
          "state": {
            "_view_name": "HTMLView",
            "style": "IPY_MODEL_6761bd3477174a40a35b06f8524c0cc6",
            "_dom_classes": [],
            "description": "",
            "_model_name": "HTMLModel",
            "placeholder": "​",
            "_view_module": "@jupyter-widgets/controls",
            "_model_module_version": "1.5.0",
            "value": "",
            "_view_count": null,
            "_view_module_version": "1.5.0",
            "description_tooltip": null,
            "_model_module": "@jupyter-widgets/controls",
            "layout": "IPY_MODEL_a118f8f37a0f4c84bb914c57b7303698"
          }
        },
        "b49dd455992e40f4b74bc09937c20600": {
          "model_module": "@jupyter-widgets/controls",
          "model_name": "FloatProgressModel",
          "model_module_version": "1.5.0",
          "state": {
            "_view_name": "ProgressView",
            "style": "IPY_MODEL_259aab31970d417b919acfb11fc549db",
            "_dom_classes": [],
            "description": "",
            "_model_name": "FloatProgressModel",
            "bar_style": "success",
            "max": 170498071,
            "_view_module": "@jupyter-widgets/controls",
            "_model_module_version": "1.5.0",
            "value": 170498071,
            "_view_count": null,
            "_view_module_version": "1.5.0",
            "orientation": "horizontal",
            "min": 0,
            "description_tooltip": null,
            "_model_module": "@jupyter-widgets/controls",
            "layout": "IPY_MODEL_0f69acd99b4b4986b970ac376ab52f55"
          }
        },
        "67a9336eb15a4ba08dabeaf10a59349a": {
          "model_module": "@jupyter-widgets/controls",
          "model_name": "HTMLModel",
          "model_module_version": "1.5.0",
          "state": {
            "_view_name": "HTMLView",
            "style": "IPY_MODEL_1d7a40f7adfc402787a0db9d2f490cea",
            "_dom_classes": [],
            "description": "",
            "_model_name": "HTMLModel",
            "placeholder": "​",
            "_view_module": "@jupyter-widgets/controls",
            "_model_module_version": "1.5.0",
            "value": " 170499072/? [00:06&lt;00:00, 29366138.72it/s]",
            "_view_count": null,
            "_view_module_version": "1.5.0",
            "description_tooltip": null,
            "_model_module": "@jupyter-widgets/controls",
            "layout": "IPY_MODEL_af8cc1b8c9cf4fd0b90c6a21ec3e1eeb"
          }
        },
        "6761bd3477174a40a35b06f8524c0cc6": {
          "model_module": "@jupyter-widgets/controls",
          "model_name": "DescriptionStyleModel",
          "model_module_version": "1.5.0",
          "state": {
            "_view_name": "StyleView",
            "_model_name": "DescriptionStyleModel",
            "description_width": "",
            "_view_module": "@jupyter-widgets/base",
            "_model_module_version": "1.5.0",
            "_view_count": null,
            "_view_module_version": "1.2.0",
            "_model_module": "@jupyter-widgets/controls"
          }
        },
        "a118f8f37a0f4c84bb914c57b7303698": {
          "model_module": "@jupyter-widgets/base",
          "model_name": "LayoutModel",
          "model_module_version": "1.2.0",
          "state": {
            "_view_name": "LayoutView",
            "grid_template_rows": null,
            "right": null,
            "justify_content": null,
            "_view_module": "@jupyter-widgets/base",
            "overflow": null,
            "_model_module_version": "1.2.0",
            "_view_count": null,
            "flex_flow": null,
            "width": null,
            "min_width": null,
            "border": null,
            "align_items": null,
            "bottom": null,
            "_model_module": "@jupyter-widgets/base",
            "top": null,
            "grid_column": null,
            "overflow_y": null,
            "overflow_x": null,
            "grid_auto_flow": null,
            "grid_area": null,
            "grid_template_columns": null,
            "flex": null,
            "_model_name": "LayoutModel",
            "justify_items": null,
            "grid_row": null,
            "max_height": null,
            "align_content": null,
            "visibility": null,
            "align_self": null,
            "height": null,
            "min_height": null,
            "padding": null,
            "grid_auto_rows": null,
            "grid_gap": null,
            "max_width": null,
            "order": null,
            "_view_module_version": "1.2.0",
            "grid_template_areas": null,
            "object_position": null,
            "object_fit": null,
            "grid_auto_columns": null,
            "margin": null,
            "display": null,
            "left": null
          }
        },
        "259aab31970d417b919acfb11fc549db": {
          "model_module": "@jupyter-widgets/controls",
          "model_name": "ProgressStyleModel",
          "model_module_version": "1.5.0",
          "state": {
            "_view_name": "StyleView",
            "_model_name": "ProgressStyleModel",
            "description_width": "",
            "_view_module": "@jupyter-widgets/base",
            "_model_module_version": "1.5.0",
            "_view_count": null,
            "_view_module_version": "1.2.0",
            "bar_color": null,
            "_model_module": "@jupyter-widgets/controls"
          }
        },
        "0f69acd99b4b4986b970ac376ab52f55": {
          "model_module": "@jupyter-widgets/base",
          "model_name": "LayoutModel",
          "model_module_version": "1.2.0",
          "state": {
            "_view_name": "LayoutView",
            "grid_template_rows": null,
            "right": null,
            "justify_content": null,
            "_view_module": "@jupyter-widgets/base",
            "overflow": null,
            "_model_module_version": "1.2.0",
            "_view_count": null,
            "flex_flow": null,
            "width": null,
            "min_width": null,
            "border": null,
            "align_items": null,
            "bottom": null,
            "_model_module": "@jupyter-widgets/base",
            "top": null,
            "grid_column": null,
            "overflow_y": null,
            "overflow_x": null,
            "grid_auto_flow": null,
            "grid_area": null,
            "grid_template_columns": null,
            "flex": null,
            "_model_name": "LayoutModel",
            "justify_items": null,
            "grid_row": null,
            "max_height": null,
            "align_content": null,
            "visibility": null,
            "align_self": null,
            "height": null,
            "min_height": null,
            "padding": null,
            "grid_auto_rows": null,
            "grid_gap": null,
            "max_width": null,
            "order": null,
            "_view_module_version": "1.2.0",
            "grid_template_areas": null,
            "object_position": null,
            "object_fit": null,
            "grid_auto_columns": null,
            "margin": null,
            "display": null,
            "left": null
          }
        },
        "1d7a40f7adfc402787a0db9d2f490cea": {
          "model_module": "@jupyter-widgets/controls",
          "model_name": "DescriptionStyleModel",
          "model_module_version": "1.5.0",
          "state": {
            "_view_name": "StyleView",
            "_model_name": "DescriptionStyleModel",
            "description_width": "",
            "_view_module": "@jupyter-widgets/base",
            "_model_module_version": "1.5.0",
            "_view_count": null,
            "_view_module_version": "1.2.0",
            "_model_module": "@jupyter-widgets/controls"
          }
        },
        "af8cc1b8c9cf4fd0b90c6a21ec3e1eeb": {
          "model_module": "@jupyter-widgets/base",
          "model_name": "LayoutModel",
          "model_module_version": "1.2.0",
          "state": {
            "_view_name": "LayoutView",
            "grid_template_rows": null,
            "right": null,
            "justify_content": null,
            "_view_module": "@jupyter-widgets/base",
            "overflow": null,
            "_model_module_version": "1.2.0",
            "_view_count": null,
            "flex_flow": null,
            "width": null,
            "min_width": null,
            "border": null,
            "align_items": null,
            "bottom": null,
            "_model_module": "@jupyter-widgets/base",
            "top": null,
            "grid_column": null,
            "overflow_y": null,
            "overflow_x": null,
            "grid_auto_flow": null,
            "grid_area": null,
            "grid_template_columns": null,
            "flex": null,
            "_model_name": "LayoutModel",
            "justify_items": null,
            "grid_row": null,
            "max_height": null,
            "align_content": null,
            "visibility": null,
            "align_self": null,
            "height": null,
            "min_height": null,
            "padding": null,
            "grid_auto_rows": null,
            "grid_gap": null,
            "max_width": null,
            "order": null,
            "_view_module_version": "1.2.0",
            "grid_template_areas": null,
            "object_position": null,
            "object_fit": null,
            "grid_auto_columns": null,
            "margin": null,
            "display": null,
            "left": null
          }
        }
      }
    }
  },
  "cells": [
    {
      "cell_type": "markdown",
      "metadata": {
        "id": "view-in-github",
        "colab_type": "text"
      },
      "source": [
        "<a href=\"https://colab.research.google.com/github/erickuo5124/Opencvdl_hw/blob/hw1/cifar10_vgg16.ipynb\" target=\"_parent\"><img src=\"https://colab.research.google.com/assets/colab-badge.svg\" alt=\"Open In Colab\"/></a>"
      ]
    },
    {
      "cell_type": "code",
      "metadata": {
        "colab": {
          "base_uri": "https://localhost:8080/"
        },
        "id": "vSDrd_oSOdxT",
        "outputId": "fbb5287e-d126-44e3-f943-f6525f35816a"
      },
      "source": [
        "import torch\n",
        "import torch.nn as nn\n",
        "import torch.utils.data as Data\n",
        "import torchvision\n",
        "import matplotlib.pyplot as plt\n",
        "\n",
        "# Hyper Parameters\n",
        "EPOCH = 20 \n",
        "BATCH_SIZE = 50\n",
        "LR = 0.0002\n",
        "\n",
        "# CIFAR10 dataset\n",
        "train_data = torchvision.datasets.CIFAR10(\n",
        "  root='./CIFAR10/train',    # 保存或者提取位置\n",
        "  train=True,  # this is training data\n",
        "  transform=torchvision.transforms.ToTensor(),\n",
        "  download=True,\n",
        ")\n",
        "# 批训练 50samples, 1 channel, 28x28 (50, 1, 28, 28)\n",
        "train_loader = Data.DataLoader(dataset=train_data, batch_size=BATCH_SIZE, shuffle=True)"
      ],
      "execution_count": 25,
      "outputs": [
        {
          "output_type": "stream",
          "name": "stdout",
          "text": [
            "Files already downloaded and verified\n"
          ]
        }
      ]
    },
    {
      "cell_type": "code",
      "metadata": {
        "colab": {
          "base_uri": "https://localhost:8080/"
        },
        "id": "p6uCVBLOOdrM",
        "outputId": "8b52b40b-11e6-4121-f49f-ddf334c2a74a"
      },
      "source": [
        "test_data = torchvision.datasets.CIFAR10(\n",
        "  root='./CIFAR10/test', \n",
        "  train=False,\n",
        "  transform=torchvision.transforms.ToTensor(),\n",
        "  download=True,\n",
        ")\n",
        "test_loader = Data.DataLoader(dataset=test_data, batch_size=2000, shuffle=True)"
      ],
      "execution_count": 2,
      "outputs": [
        {
          "output_type": "stream",
          "name": "stdout",
          "text": [
            "Files already downloaded and verified\n"
          ]
        }
      ]
    },
    {
      "cell_type": "code",
      "metadata": {
        "colab": {
          "base_uri": "https://localhost:8080/"
        },
        "id": "-MdKKIk7Odox",
        "outputId": "dfb4a971-53bc-4c4a-b852-9c56df097e88"
      },
      "source": [
        "from torchsummary import summary\n",
        "\n",
        "model = torchvision.models.vgg16()\n",
        "model.cuda()\n",
        "feature = torch.nn.Sequential(*list(model.children())[:])\n",
        "print(feature)"
      ],
      "execution_count": 3,
      "outputs": [
        {
          "output_type": "stream",
          "name": "stdout",
          "text": [
            "Sequential(\n",
            "  (0): Sequential(\n",
            "    (0): Conv2d(3, 64, kernel_size=(3, 3), stride=(1, 1), padding=(1, 1))\n",
            "    (1): ReLU(inplace=True)\n",
            "    (2): Conv2d(64, 64, kernel_size=(3, 3), stride=(1, 1), padding=(1, 1))\n",
            "    (3): ReLU(inplace=True)\n",
            "    (4): MaxPool2d(kernel_size=2, stride=2, padding=0, dilation=1, ceil_mode=False)\n",
            "    (5): Conv2d(64, 128, kernel_size=(3, 3), stride=(1, 1), padding=(1, 1))\n",
            "    (6): ReLU(inplace=True)\n",
            "    (7): Conv2d(128, 128, kernel_size=(3, 3), stride=(1, 1), padding=(1, 1))\n",
            "    (8): ReLU(inplace=True)\n",
            "    (9): MaxPool2d(kernel_size=2, stride=2, padding=0, dilation=1, ceil_mode=False)\n",
            "    (10): Conv2d(128, 256, kernel_size=(3, 3), stride=(1, 1), padding=(1, 1))\n",
            "    (11): ReLU(inplace=True)\n",
            "    (12): Conv2d(256, 256, kernel_size=(3, 3), stride=(1, 1), padding=(1, 1))\n",
            "    (13): ReLU(inplace=True)\n",
            "    (14): Conv2d(256, 256, kernel_size=(3, 3), stride=(1, 1), padding=(1, 1))\n",
            "    (15): ReLU(inplace=True)\n",
            "    (16): MaxPool2d(kernel_size=2, stride=2, padding=0, dilation=1, ceil_mode=False)\n",
            "    (17): Conv2d(256, 512, kernel_size=(3, 3), stride=(1, 1), padding=(1, 1))\n",
            "    (18): ReLU(inplace=True)\n",
            "    (19): Conv2d(512, 512, kernel_size=(3, 3), stride=(1, 1), padding=(1, 1))\n",
            "    (20): ReLU(inplace=True)\n",
            "    (21): Conv2d(512, 512, kernel_size=(3, 3), stride=(1, 1), padding=(1, 1))\n",
            "    (22): ReLU(inplace=True)\n",
            "    (23): MaxPool2d(kernel_size=2, stride=2, padding=0, dilation=1, ceil_mode=False)\n",
            "    (24): Conv2d(512, 512, kernel_size=(3, 3), stride=(1, 1), padding=(1, 1))\n",
            "    (25): ReLU(inplace=True)\n",
            "    (26): Conv2d(512, 512, kernel_size=(3, 3), stride=(1, 1), padding=(1, 1))\n",
            "    (27): ReLU(inplace=True)\n",
            "    (28): Conv2d(512, 512, kernel_size=(3, 3), stride=(1, 1), padding=(1, 1))\n",
            "    (29): ReLU(inplace=True)\n",
            "    (30): MaxPool2d(kernel_size=2, stride=2, padding=0, dilation=1, ceil_mode=False)\n",
            "  )\n",
            "  (1): AdaptiveAvgPool2d(output_size=(7, 7))\n",
            "  (2): Sequential(\n",
            "    (0): Linear(in_features=25088, out_features=4096, bias=True)\n",
            "    (1): ReLU(inplace=True)\n",
            "    (2): Dropout(p=0.5, inplace=False)\n",
            "    (3): Linear(in_features=4096, out_features=4096, bias=True)\n",
            "    (4): ReLU(inplace=True)\n",
            "    (5): Dropout(p=0.5, inplace=False)\n",
            "    (6): Linear(in_features=4096, out_features=1000, bias=True)\n",
            "  )\n",
            ")\n"
          ]
        }
      ]
    },
    {
      "cell_type": "code",
      "metadata": {
        "colab": {
          "base_uri": "https://localhost:8080/"
        },
        "id": "tttDI2PjOdmr",
        "outputId": "6b5c5a21-d292-417f-8b93-7ec5333733e9"
      },
      "source": [
        "from torch.autograd import Variable\n",
        "\n",
        "optimizer = torch.optim.Adam(model.parameters(), lr=LR)   # optimize all cnn parameters\n",
        "loss_func = nn.CrossEntropyLoss()   # the target label is not one-hotted\n",
        "\n",
        "record_accuracy = []\n",
        "record_loss = []\n",
        "\n",
        "# training and testing\n",
        "for epoch in range(EPOCH):\n",
        "  for step, (b_x, b_y) in enumerate(train_loader):   # 分配 batch data, normalize x when iterate train_loader\n",
        "    optimizer.zero_grad()\n",
        "    b_x,b_y = Variable(b_x).cuda(), Variable(b_y).cuda()\n",
        "    output = model(b_x)\n",
        "    loss = loss_func(output, b_y)\n",
        "    loss.backward()\n",
        "    optimizer.step()\n",
        "    if step % 100 == 0:\n",
        "      test_x, test_y=next(iter(test_loader))\n",
        "      test_output = model(test_x.cuda())\n",
        "      pred_y = torch.max(test_output, 1)[1].data.cpu().numpy().squeeze()\n",
        "      accuracy = 0\n",
        "      for pred, test in zip(pred_y, test_y.numpy()):\n",
        "        if pred == test:\n",
        "          accuracy += 1\n",
        "      print(f'Epoch: {epoch}, Step: {step:03d}, Loss: {loss:.6f}, Accuracy: {accuracy/2000}')\n",
        "      record_accuracy.append(accuracy/2000)\n",
        "      record_loss.append(loss)\n",
        "  print(f'========================================')\n"
      ],
      "execution_count": 4,
      "outputs": [
        {
          "output_type": "stream",
          "name": "stdout",
          "text": [
            "Epoch: 0, Step: 000, Loss: 6.911579, Accuracy: 0.106\n",
            "Epoch: 0, Step: 100, Loss: 2.346477, Accuracy: 0.099\n",
            "Epoch: 0, Step: 200, Loss: 2.352637, Accuracy: 0.1065\n",
            "Epoch: 0, Step: 300, Loss: 2.276671, Accuracy: 0.145\n",
            "Epoch: 0, Step: 400, Loss: 2.147631, Accuracy: 0.172\n",
            "Epoch: 0, Step: 500, Loss: 1.953578, Accuracy: 0.2155\n",
            "Epoch: 0, Step: 600, Loss: 1.921256, Accuracy: 0.219\n",
            "Epoch: 0, Step: 700, Loss: 1.743552, Accuracy: 0.241\n",
            "Epoch: 0, Step: 800, Loss: 1.949447, Accuracy: 0.2885\n",
            "Epoch: 0, Step: 900, Loss: 1.868469, Accuracy: 0.314\n",
            "========================================\n",
            "Epoch: 1, Step: 000, Loss: 1.723301, Accuracy: 0.327\n",
            "Epoch: 1, Step: 100, Loss: 1.451336, Accuracy: 0.3395\n",
            "Epoch: 1, Step: 200, Loss: 1.536101, Accuracy: 0.3435\n",
            "Epoch: 1, Step: 300, Loss: 1.514605, Accuracy: 0.387\n",
            "Epoch: 1, Step: 400, Loss: 1.526178, Accuracy: 0.42\n",
            "Epoch: 1, Step: 500, Loss: 1.341942, Accuracy: 0.479\n",
            "Epoch: 1, Step: 600, Loss: 1.167057, Accuracy: 0.4875\n",
            "Epoch: 1, Step: 700, Loss: 1.638077, Accuracy: 0.5065\n",
            "Epoch: 1, Step: 800, Loss: 1.418062, Accuracy: 0.5095\n",
            "Epoch: 1, Step: 900, Loss: 1.259473, Accuracy: 0.5515\n",
            "========================================\n",
            "Epoch: 2, Step: 000, Loss: 1.360011, Accuracy: 0.5395\n",
            "Epoch: 2, Step: 100, Loss: 1.337066, Accuracy: 0.584\n",
            "Epoch: 2, Step: 200, Loss: 0.835076, Accuracy: 0.5615\n",
            "Epoch: 2, Step: 300, Loss: 0.953650, Accuracy: 0.5905\n",
            "Epoch: 2, Step: 400, Loss: 1.268299, Accuracy: 0.6065\n",
            "Epoch: 2, Step: 500, Loss: 1.249840, Accuracy: 0.6105\n",
            "Epoch: 2, Step: 600, Loss: 0.795399, Accuracy: 0.6255\n",
            "Epoch: 2, Step: 700, Loss: 0.901112, Accuracy: 0.642\n",
            "Epoch: 2, Step: 800, Loss: 0.979571, Accuracy: 0.626\n",
            "Epoch: 2, Step: 900, Loss: 0.901294, Accuracy: 0.6445\n",
            "========================================\n",
            "Epoch: 3, Step: 000, Loss: 0.840535, Accuracy: 0.666\n",
            "Epoch: 3, Step: 100, Loss: 0.512209, Accuracy: 0.6845\n",
            "Epoch: 3, Step: 200, Loss: 0.862162, Accuracy: 0.6775\n",
            "Epoch: 3, Step: 300, Loss: 1.132423, Accuracy: 0.6615\n",
            "Epoch: 3, Step: 400, Loss: 0.992004, Accuracy: 0.6805\n",
            "Epoch: 3, Step: 500, Loss: 0.821838, Accuracy: 0.692\n",
            "Epoch: 3, Step: 600, Loss: 1.047994, Accuracy: 0.6725\n",
            "Epoch: 3, Step: 700, Loss: 0.946854, Accuracy: 0.702\n",
            "Epoch: 3, Step: 800, Loss: 0.787520, Accuracy: 0.677\n",
            "Epoch: 3, Step: 900, Loss: 0.511244, Accuracy: 0.725\n",
            "========================================\n",
            "Epoch: 4, Step: 000, Loss: 0.701492, Accuracy: 0.7445\n",
            "Epoch: 4, Step: 100, Loss: 0.721775, Accuracy: 0.7165\n",
            "Epoch: 4, Step: 200, Loss: 0.767312, Accuracy: 0.7105\n",
            "Epoch: 4, Step: 300, Loss: 0.639329, Accuracy: 0.7075\n",
            "Epoch: 4, Step: 400, Loss: 0.716062, Accuracy: 0.7345\n",
            "Epoch: 4, Step: 500, Loss: 0.855376, Accuracy: 0.73\n",
            "Epoch: 4, Step: 600, Loss: 0.911994, Accuracy: 0.7445\n",
            "Epoch: 4, Step: 700, Loss: 0.513417, Accuracy: 0.7405\n",
            "Epoch: 4, Step: 800, Loss: 0.525871, Accuracy: 0.726\n",
            "Epoch: 4, Step: 900, Loss: 0.924117, Accuracy: 0.753\n",
            "========================================\n",
            "Epoch: 5, Step: 000, Loss: 0.634820, Accuracy: 0.7405\n",
            "Epoch: 5, Step: 100, Loss: 0.545280, Accuracy: 0.7535\n",
            "Epoch: 5, Step: 200, Loss: 0.410676, Accuracy: 0.75\n",
            "Epoch: 5, Step: 300, Loss: 0.501636, Accuracy: 0.753\n",
            "Epoch: 5, Step: 400, Loss: 0.830961, Accuracy: 0.7455\n",
            "Epoch: 5, Step: 500, Loss: 0.530214, Accuracy: 0.757\n",
            "Epoch: 5, Step: 600, Loss: 0.419081, Accuracy: 0.7605\n",
            "Epoch: 5, Step: 700, Loss: 0.800861, Accuracy: 0.746\n",
            "Epoch: 5, Step: 800, Loss: 0.548047, Accuracy: 0.769\n",
            "Epoch: 5, Step: 900, Loss: 0.454641, Accuracy: 0.761\n",
            "========================================\n",
            "Epoch: 6, Step: 000, Loss: 0.283878, Accuracy: 0.7515\n",
            "Epoch: 6, Step: 100, Loss: 0.353519, Accuracy: 0.775\n",
            "Epoch: 6, Step: 200, Loss: 0.408645, Accuracy: 0.7645\n",
            "Epoch: 6, Step: 300, Loss: 0.412613, Accuracy: 0.7605\n",
            "Epoch: 6, Step: 400, Loss: 0.502407, Accuracy: 0.7735\n",
            "Epoch: 6, Step: 500, Loss: 0.275506, Accuracy: 0.7595\n",
            "Epoch: 6, Step: 600, Loss: 0.392072, Accuracy: 0.7705\n",
            "Epoch: 6, Step: 700, Loss: 0.298533, Accuracy: 0.777\n",
            "Epoch: 6, Step: 800, Loss: 0.443812, Accuracy: 0.7775\n",
            "Epoch: 6, Step: 900, Loss: 0.760294, Accuracy: 0.754\n",
            "========================================\n",
            "Epoch: 7, Step: 000, Loss: 0.445802, Accuracy: 0.7495\n",
            "Epoch: 7, Step: 100, Loss: 0.411671, Accuracy: 0.755\n",
            "Epoch: 7, Step: 200, Loss: 0.299988, Accuracy: 0.766\n",
            "Epoch: 7, Step: 300, Loss: 0.243264, Accuracy: 0.7685\n",
            "Epoch: 7, Step: 400, Loss: 0.329229, Accuracy: 0.7955\n",
            "Epoch: 7, Step: 500, Loss: 0.230628, Accuracy: 0.7625\n",
            "Epoch: 7, Step: 600, Loss: 0.422324, Accuracy: 0.771\n",
            "Epoch: 7, Step: 700, Loss: 0.370932, Accuracy: 0.783\n",
            "Epoch: 7, Step: 800, Loss: 0.381071, Accuracy: 0.785\n",
            "Epoch: 7, Step: 900, Loss: 0.497232, Accuracy: 0.763\n",
            "========================================\n",
            "Epoch: 8, Step: 000, Loss: 0.203433, Accuracy: 0.781\n",
            "Epoch: 8, Step: 100, Loss: 0.310861, Accuracy: 0.7725\n",
            "Epoch: 8, Step: 200, Loss: 0.109556, Accuracy: 0.7745\n",
            "Epoch: 8, Step: 300, Loss: 0.102665, Accuracy: 0.7935\n",
            "Epoch: 8, Step: 400, Loss: 0.252563, Accuracy: 0.7875\n",
            "Epoch: 8, Step: 500, Loss: 0.412862, Accuracy: 0.7945\n",
            "Epoch: 8, Step: 600, Loss: 0.421984, Accuracy: 0.773\n",
            "Epoch: 8, Step: 700, Loss: 0.107390, Accuracy: 0.776\n",
            "Epoch: 8, Step: 800, Loss: 0.134548, Accuracy: 0.776\n",
            "Epoch: 8, Step: 900, Loss: 0.327819, Accuracy: 0.786\n",
            "========================================\n",
            "Epoch: 9, Step: 000, Loss: 0.141632, Accuracy: 0.778\n",
            "Epoch: 9, Step: 100, Loss: 0.264623, Accuracy: 0.7765\n",
            "Epoch: 9, Step: 200, Loss: 0.148479, Accuracy: 0.7595\n",
            "Epoch: 9, Step: 300, Loss: 0.079352, Accuracy: 0.788\n",
            "Epoch: 9, Step: 400, Loss: 0.198429, Accuracy: 0.7775\n",
            "Epoch: 9, Step: 500, Loss: 0.218894, Accuracy: 0.751\n",
            "Epoch: 9, Step: 600, Loss: 0.053133, Accuracy: 0.778\n",
            "Epoch: 9, Step: 700, Loss: 0.401193, Accuracy: 0.783\n",
            "Epoch: 9, Step: 800, Loss: 0.259399, Accuracy: 0.7815\n",
            "Epoch: 9, Step: 900, Loss: 0.085525, Accuracy: 0.7795\n",
            "========================================\n",
            "Epoch: 10, Step: 000, Loss: 0.116826, Accuracy: 0.7795\n",
            "Epoch: 10, Step: 100, Loss: 0.190652, Accuracy: 0.776\n",
            "Epoch: 10, Step: 200, Loss: 0.222361, Accuracy: 0.7755\n",
            "Epoch: 10, Step: 300, Loss: 0.162947, Accuracy: 0.794\n",
            "Epoch: 10, Step: 400, Loss: 0.282908, Accuracy: 0.7855\n",
            "Epoch: 10, Step: 500, Loss: 0.325527, Accuracy: 0.791\n",
            "Epoch: 10, Step: 600, Loss: 0.309911, Accuracy: 0.7815\n",
            "Epoch: 10, Step: 700, Loss: 0.120402, Accuracy: 0.775\n",
            "Epoch: 10, Step: 800, Loss: 0.410748, Accuracy: 0.775\n",
            "Epoch: 10, Step: 900, Loss: 0.218682, Accuracy: 0.786\n",
            "========================================\n",
            "Epoch: 11, Step: 000, Loss: 0.121365, Accuracy: 0.784\n",
            "Epoch: 11, Step: 100, Loss: 0.045105, Accuracy: 0.786\n",
            "Epoch: 11, Step: 200, Loss: 0.190053, Accuracy: 0.7785\n",
            "Epoch: 11, Step: 300, Loss: 0.077899, Accuracy: 0.7725\n",
            "Epoch: 11, Step: 400, Loss: 0.054991, Accuracy: 0.776\n",
            "Epoch: 11, Step: 500, Loss: 0.192938, Accuracy: 0.786\n",
            "Epoch: 11, Step: 600, Loss: 0.157532, Accuracy: 0.7805\n",
            "Epoch: 11, Step: 700, Loss: 0.177024, Accuracy: 0.787\n",
            "Epoch: 11, Step: 800, Loss: 0.057285, Accuracy: 0.773\n",
            "Epoch: 11, Step: 900, Loss: 0.108611, Accuracy: 0.791\n",
            "========================================\n",
            "Epoch: 12, Step: 000, Loss: 0.074724, Accuracy: 0.783\n",
            "Epoch: 12, Step: 100, Loss: 0.041484, Accuracy: 0.7875\n",
            "Epoch: 12, Step: 200, Loss: 0.027572, Accuracy: 0.786\n",
            "Epoch: 12, Step: 300, Loss: 0.106964, Accuracy: 0.783\n",
            "Epoch: 12, Step: 400, Loss: 0.141324, Accuracy: 0.7815\n",
            "Epoch: 12, Step: 500, Loss: 0.111701, Accuracy: 0.791\n",
            "Epoch: 12, Step: 600, Loss: 0.326205, Accuracy: 0.7865\n",
            "Epoch: 12, Step: 700, Loss: 0.208628, Accuracy: 0.783\n",
            "Epoch: 12, Step: 800, Loss: 0.063084, Accuracy: 0.7815\n",
            "Epoch: 12, Step: 900, Loss: 0.289606, Accuracy: 0.787\n",
            "========================================\n",
            "Epoch: 13, Step: 000, Loss: 0.008624, Accuracy: 0.763\n",
            "Epoch: 13, Step: 100, Loss: 0.046647, Accuracy: 0.7835\n",
            "Epoch: 13, Step: 200, Loss: 0.098839, Accuracy: 0.775\n",
            "Epoch: 13, Step: 300, Loss: 0.148864, Accuracy: 0.7805\n",
            "Epoch: 13, Step: 400, Loss: 0.024036, Accuracy: 0.783\n",
            "Epoch: 13, Step: 500, Loss: 0.079878, Accuracy: 0.802\n",
            "Epoch: 13, Step: 600, Loss: 0.148120, Accuracy: 0.7855\n",
            "Epoch: 13, Step: 700, Loss: 0.193496, Accuracy: 0.7705\n",
            "Epoch: 13, Step: 800, Loss: 0.332331, Accuracy: 0.7615\n",
            "Epoch: 13, Step: 900, Loss: 0.177710, Accuracy: 0.7945\n",
            "========================================\n",
            "Epoch: 14, Step: 000, Loss: 0.023670, Accuracy: 0.7895\n",
            "Epoch: 14, Step: 100, Loss: 0.058696, Accuracy: 0.784\n",
            "Epoch: 14, Step: 200, Loss: 0.170600, Accuracy: 0.793\n",
            "Epoch: 14, Step: 300, Loss: 0.055992, Accuracy: 0.7585\n",
            "Epoch: 14, Step: 400, Loss: 0.299358, Accuracy: 0.7715\n",
            "Epoch: 14, Step: 500, Loss: 0.206717, Accuracy: 0.787\n",
            "Epoch: 14, Step: 600, Loss: 0.106837, Accuracy: 0.7915\n",
            "Epoch: 14, Step: 700, Loss: 0.276690, Accuracy: 0.777\n",
            "Epoch: 14, Step: 800, Loss: 0.053708, Accuracy: 0.787\n",
            "Epoch: 14, Step: 900, Loss: 0.032729, Accuracy: 0.791\n",
            "========================================\n",
            "Epoch: 15, Step: 000, Loss: 0.095504, Accuracy: 0.785\n",
            "Epoch: 15, Step: 100, Loss: 0.066328, Accuracy: 0.789\n",
            "Epoch: 15, Step: 200, Loss: 0.060703, Accuracy: 0.791\n",
            "Epoch: 15, Step: 300, Loss: 0.076820, Accuracy: 0.7975\n",
            "Epoch: 15, Step: 400, Loss: 0.065393, Accuracy: 0.78\n",
            "Epoch: 15, Step: 500, Loss: 0.026519, Accuracy: 0.7845\n",
            "Epoch: 15, Step: 600, Loss: 0.053189, Accuracy: 0.7895\n",
            "Epoch: 15, Step: 700, Loss: 0.114719, Accuracy: 0.776\n",
            "Epoch: 15, Step: 800, Loss: 0.246104, Accuracy: 0.789\n",
            "Epoch: 15, Step: 900, Loss: 0.079502, Accuracy: 0.763\n",
            "========================================\n",
            "Epoch: 16, Step: 000, Loss: 0.087122, Accuracy: 0.7875\n",
            "Epoch: 16, Step: 100, Loss: 0.041124, Accuracy: 0.773\n",
            "Epoch: 16, Step: 200, Loss: 0.039333, Accuracy: 0.7655\n",
            "Epoch: 16, Step: 300, Loss: 0.120171, Accuracy: 0.7875\n",
            "Epoch: 16, Step: 400, Loss: 0.162279, Accuracy: 0.775\n",
            "Epoch: 16, Step: 500, Loss: 0.047261, Accuracy: 0.7875\n",
            "Epoch: 16, Step: 600, Loss: 0.026718, Accuracy: 0.798\n",
            "Epoch: 16, Step: 700, Loss: 0.018843, Accuracy: 0.7845\n",
            "Epoch: 16, Step: 800, Loss: 0.107893, Accuracy: 0.7955\n",
            "Epoch: 16, Step: 900, Loss: 0.091069, Accuracy: 0.7705\n",
            "========================================\n",
            "Epoch: 17, Step: 000, Loss: 0.007232, Accuracy: 0.784\n",
            "Epoch: 17, Step: 100, Loss: 0.061162, Accuracy: 0.7675\n",
            "Epoch: 17, Step: 200, Loss: 0.060832, Accuracy: 0.782\n",
            "Epoch: 17, Step: 300, Loss: 0.048532, Accuracy: 0.7795\n",
            "Epoch: 17, Step: 400, Loss: 0.133530, Accuracy: 0.784\n",
            "Epoch: 17, Step: 500, Loss: 0.073906, Accuracy: 0.7885\n",
            "Epoch: 17, Step: 600, Loss: 0.205085, Accuracy: 0.7735\n",
            "Epoch: 17, Step: 700, Loss: 0.144865, Accuracy: 0.787\n",
            "Epoch: 17, Step: 800, Loss: 0.044833, Accuracy: 0.791\n",
            "Epoch: 17, Step: 900, Loss: 0.048956, Accuracy: 0.7895\n",
            "========================================\n",
            "Epoch: 18, Step: 000, Loss: 0.053326, Accuracy: 0.7835\n",
            "Epoch: 18, Step: 100, Loss: 0.135202, Accuracy: 0.792\n",
            "Epoch: 18, Step: 200, Loss: 0.112517, Accuracy: 0.782\n",
            "Epoch: 18, Step: 300, Loss: 0.028432, Accuracy: 0.7815\n",
            "Epoch: 18, Step: 400, Loss: 0.007294, Accuracy: 0.7805\n",
            "Epoch: 18, Step: 500, Loss: 0.026851, Accuracy: 0.786\n",
            "Epoch: 18, Step: 600, Loss: 0.060006, Accuracy: 0.8035\n",
            "Epoch: 18, Step: 700, Loss: 0.037001, Accuracy: 0.7825\n",
            "Epoch: 18, Step: 800, Loss: 0.109262, Accuracy: 0.772\n",
            "Epoch: 18, Step: 900, Loss: 0.063361, Accuracy: 0.78\n",
            "========================================\n",
            "Epoch: 19, Step: 000, Loss: 0.082865, Accuracy: 0.7935\n",
            "Epoch: 19, Step: 100, Loss: 0.207141, Accuracy: 0.793\n",
            "Epoch: 19, Step: 200, Loss: 0.070836, Accuracy: 0.805\n",
            "Epoch: 19, Step: 300, Loss: 0.005950, Accuracy: 0.793\n",
            "Epoch: 19, Step: 400, Loss: 0.024960, Accuracy: 0.7805\n",
            "Epoch: 19, Step: 500, Loss: 0.079362, Accuracy: 0.783\n",
            "Epoch: 19, Step: 600, Loss: 0.009130, Accuracy: 0.782\n",
            "Epoch: 19, Step: 700, Loss: 0.329614, Accuracy: 0.7825\n",
            "Epoch: 19, Step: 800, Loss: 0.127010, Accuracy: 0.778\n",
            "Epoch: 19, Step: 900, Loss: 0.025353, Accuracy: 0.775\n",
            "========================================\n"
          ]
        }
      ]
    },
    {
      "cell_type": "code",
      "metadata": {
        "id": "vqZW5-8XFBes"
      },
      "source": [
        "torch.save(model.state_dict(), '/content/drive/MyDrive/NCKU/影像處理/Homework/Hw1/model')"
      ],
      "execution_count": 6,
      "outputs": []
    },
    {
      "cell_type": "code",
      "metadata": {
        "colab": {
          "base_uri": "https://localhost:8080/",
          "height": 281
        },
        "id": "qjom8h-PZHnW",
        "outputId": "44f9330f-6ce0-4b6f-eefe-e8872381a769"
      },
      "source": [
        "import numpy as np\n",
        "import matplotlib.pyplot as plt\n",
        "\n",
        "y = np.array(range(EPOCH * 10))/10\n",
        "\n",
        "plt.figure(figsize=(16, 4))\n",
        "\n",
        "plt.subplot(1,2,1)\n",
        "plt.title('Accuracy')\n",
        "plt.plot(y, record_accuracy)\n",
        "\n",
        "plt.subplot(1,2,2)\n",
        "plt.title('Loss')\n",
        "plt.plot(y, record_loss)\n",
        "\n",
        "plt.show()"
      ],
      "execution_count": 30,
      "outputs": [
        {
          "output_type": "display_data",
          "data": {
            "image/png": "[encoded data removed]",
            "text/plain": [
              "<Figure size 1152x288 with 2 Axes>"
            ]
          },
          "metadata": {
            "needs_background": "light"
          }
        }
      ]
    },
    {
      "cell_type": "code",
      "metadata": {
        "colab": {
          "base_uri": "https://localhost:8080/",
          "height": 84,
          "referenced_widgets": [
            "2cb65d4bc3cf4190b110111ea32a49ba",
            "4eb13b545ef7461c912e27be78c7848a",
            "91f58a9128624b9cad67c373d3a08997",
            "b49dd455992e40f4b74bc09937c20600",
            "67a9336eb15a4ba08dabeaf10a59349a",
            "6761bd3477174a40a35b06f8524c0cc6",
            "a118f8f37a0f4c84bb914c57b7303698",
            "259aab31970d417b919acfb11fc549db",
            "0f69acd99b4b4986b970ac376ab52f55",
            "1d7a40f7adfc402787a0db9d2f490cea",
            "af8cc1b8c9cf4fd0b90c6a21ec3e1eeb"
          ]
        },
        "id": "e4eW9k7xTRUS",
        "outputId": "736431ec-a7e8-410e-830a-4920d02bc1f8"
      },
      "source": [
        "import torchvision\n",
        "show_train_data = torchvision.datasets.CIFAR10(\n",
        "  root='./CIFAR10/train',    # 保存或者提取位置\n",
        "  train=False,  # this is training data\n",
        "  download=True\n",
        ")"
      ],
      "execution_count": 7,
      "outputs": [
        {
          "output_type": "stream",
          "name": "stdout",
          "text": [
            "Downloading https://www.cs.toronto.edu/~kriz/cifar-10-python.tar.gz to ./CIFAR10/train/cifar-10-python.tar.gz\n"
          ]
        },
        {
          "output_type": "display_data",
          "data": {
            "application/vnd.jupyter.widget-view+json": {
              "model_id": "2cb65d4bc3cf4190b110111ea32a49ba",
              "version_minor": 0,
              "version_major": 2
            },
            "text/plain": [
              "  0%|          | 0/170498071 [00:00<?, ?it/s]"
            ]
          },
          "metadata": {}
        },
        {
          "output_type": "stream",
          "name": "stdout",
          "text": [
            "Extracting ./CIFAR10/train/cifar-10-python.tar.gz to ./CIFAR10/train\n"
          ]
        }
      ]
    },
    {
      "cell_type": "code",
      "metadata": {
        "colab": {
          "base_uri": "https://localhost:8080/",
          "height": 553
        },
        "id": "XX7P_JZMVmdw",
        "outputId": "81e55cc8-5fe1-4e53-b08b-e1fefdb4e55e"
      },
      "source": [
        "title = ['airplane', 'automobile', 'bird', 'cat', 'deer', 'dog', 'frog', 'horse', 'ship', 'truck']\n",
        "plt.figure(figsize=(9, 9))\n",
        "for i in range(9):\n",
        "  plt.subplot(3, 3, i+1)\n",
        "  title_idx = show_train_data[i][1]\n",
        "  plt.title(title[title_idx])\n",
        "  plt.imshow(show_train_data[i][0])"
      ],
      "execution_count": 23,
      "outputs": [
        {
          "output_type": "display_data",
          "data": {
            "image/png": "[encoded data removed]",
            "text/plain": [
              "<Figure size 648x648 with 9 Axes>"
            ]
          },
          "metadata": {
            "needs_background": "light"
          }
        }
      ]
    }
  ]
}